{
  "nbformat": 4,
  "nbformat_minor": 0,
  "metadata": {
    "colab": {
      "name": "Projet_réseau.ipynb",
      "provenance": [],
      "collapsed_sections": [],
      "include_colab_link": true
    },
    "kernelspec": {
      "name": "python3",
      "display_name": "Python 3"
    },
    "language_info": {
      "name": "python"
    }
  },
  "cells": [
    {
      "cell_type": "markdown",
      "metadata": {
        "id": "view-in-github",
        "colab_type": "text"
      },
      "source": [
        "<a href=\"https://colab.research.google.com/github/sam1610/MIMiDataScience/blob/main/Projet_r%C3%A9seau.ipynb\" target=\"_parent\"><img src=\"https://colab.research.google.com/assets/colab-badge.svg\" alt=\"Open In Colab\"/></a>"
      ]
    },
    {
      "cell_type": "code",
      "metadata": {
        "id": "MLJMvbD96OwU"
      },
      "source": [
        "import numpy as np \n",
        "import copy\n",
        "import pandas as pd "
      ],
      "execution_count": 142,
      "outputs": []
    },
    {
      "cell_type": "code",
      "source": [
        "class verif:\n",
        "  def __init__(self, no_fic):\n",
        "    self.fic=no_fic\n",
        "    self.liste=[]\n",
        "\n",
        "  def fic_to_liste(self, file):#Lecture ligne par ligne du fichier \n",
        "    l=[]\n",
        "    for i in file:\n",
        "      l.append(i)\n",
        "    return l \n",
        "\n",
        "  def ouverture(self):\n",
        "    try: \n",
        "      file=open(self.fic, \"r\")\n",
        "\n",
        "      liste= self.fic_to_liste(file)#Liste representat le fichier passé en argument\n",
        "          \n",
        "      #Vérifier les offsets \n",
        "      b= self.verif_offset(liste) #Booleen true or false \n",
        "      if not(b):\n",
        "        raise Exception(\"Erreur d'offset\")\n",
        "      else: #On a le bo offset \n",
        "        #Donc on enleve les commentaire de la liste \n",
        "        #Enlever les offsets vu qu'ils sont tous bon \n",
        "        liste= self.skip_offset(liste) #On a une liste sans les offsets \n",
        "            \n",
        "        #Enlever les espaces \n",
        "        liste= self.enlever_espace(liste)\n",
        "        print(liste)\n",
        "        l= self.enlever_commentaires(liste)\n",
        "        return l #Renvoyer la liste des octets \n",
        "    except: \n",
        "      display(\"Erreure ouverture du fichier\")\n",
        "\n",
        "\n",
        "\n",
        "\n",
        "    \n",
        "  def enlever_espace(self, liste):\n",
        "    l=[]\n",
        "    for i in liste:\n",
        "      l.append(i.replace(\" \", \"\")) \n",
        "    return l \n",
        "\n",
        "  def verif_offset(self, liste):\n",
        "    loff=[]\n",
        "    for i in range(len(liste)):\n",
        "      loff.append(int(liste[i][:4], 16))\n",
        "    soff= loff.sort() #Sort les offset  \n",
        "    if soff!=loff:\n",
        "      False\n",
        "    return  True \n",
        "  \n",
        "  def skip_offset(self, l_originale):\n",
        "    l=[]\n",
        "    for i in l_originale:\n",
        "      l.append(i[4:])\n",
        "    return l \n",
        "\n",
        "  \n",
        "  def enlever_commentaires(self, liste):\n",
        "    l=[]\n",
        "    for j in liste: \n",
        "      for i in range(0, len(j), 2):\n",
        "        #pas de 2 pour recuperer les octets\n",
        "        if i<len(j)-1:\n",
        "          o= j[i]+j[i+1]\n",
        "          #Verification que c'est un octet \n",
        "          if is_hex(o): \n",
        "            l.append(j[i]+j[i+1])\n",
        "          else: \n",
        "            break \n",
        "    return l \n",
        "\n",
        "  def is_hex(self, oct):\n",
        "    try: \n",
        "      h=int(oct, 16) #Convertir en decimale \n",
        "      return True #Valeure hexa \n",
        "    except: \n",
        "      return False #Valeure non hexa \n"
      ],
      "metadata": {
        "id": "3MY7wDSlFF5B"
      },
      "execution_count": 260,
      "outputs": []
    },
    {
      "cell_type": "code",
      "source": [
        "\n",
        "V= verif(\"My_tramcc.txt\")\n",
        "l= V.ouverture()\n",
        "if V.ouverture()!=None:\n",
        "  print(\"not opened\")\n",
        "\n",
        "l= ['f0189859ae320c8ddb1a1e8808004500...Y.2........E.\\n', '01eae78d40002d06ca8c8077f50cc0a8....@.-....w....\\n', '63c70050ed6ba3f0167dc08a8f988018c..P.k...}......\\n', '00ebf20700000101080a945bf1fe4388...........[..C.\\n', '9fa9485454502f312e312032..HTTP/1.1200O\\n', '4b0d0a446174653a20467269K..Date:Fri,\\n', '2053657020323032302030383a34383aSep202008:48:']"
      ],
      "metadata": {
        "colab": {
          "base_uri": "https://localhost:8080/",
          "height": 71
        },
        "id": "MbMDl9Pz-BHG",
        "outputId": "a06b0e88-0a63-486d-a068-7b2279ec26ce"
      },
      "execution_count": 264,
      "outputs": [
        {
          "output_type": "display_data",
          "data": {
            "application/vnd.google.colaboratory.intrinsic+json": {
              "type": "string"
            },
            "text/plain": [
              "'Erreure ouverture du fichier'"
            ]
          },
          "metadata": {}
        },
        {
          "output_type": "display_data",
          "data": {
            "application/vnd.google.colaboratory.intrinsic+json": {
              "type": "string"
            },
            "text/plain": [
              "'Erreure ouverture du fichier'"
            ]
          },
          "metadata": {}
        },
        {
          "output_type": "stream",
          "name": "stdout",
          "text": [
            "not opened\n"
          ]
        }
      ]
    },
    {
      "cell_type": "code",
      "source": [
        "pwd"
      ],
      "metadata": {
        "colab": {
          "base_uri": "https://localhost:8080/",
          "height": 35
        },
        "id": "3AvdAAcre9ww",
        "outputId": "6077d611-240d-4607-9605-00646bde629e"
      },
      "execution_count": 252,
      "outputs": [
        {
          "output_type": "execute_result",
          "data": {
            "application/vnd.google.colaboratory.intrinsic+json": {
              "type": "string"
            },
            "text/plain": [
              "'/content/sample_data'"
            ]
          },
          "metadata": {},
          "execution_count": 252
        }
      ]
    },
    {
      "cell_type": "code",
      "metadata": {
        "id": "bfu0C595ZX3r"
      },
      "source": [
        "#Couche Ethernet\n",
        "\n",
        "class Ethernet: \n",
        "  def __init__(self): \n",
        "    \"\"\"Constructeur qui initialise les élements des la trame Etherne\"\"\"\n",
        "    self.dest= \"\" \n",
        "    self.src=\"\" \n",
        "    self.Et_type=\"\" \n",
        "\n",
        "  def adresse_mac(self, trame, D_S):\n",
        "    \"\"\"Fonction qui retourne l'adresse Mac source ou destination d'une trame\"\"\"\n",
        "    mac=\"\"\n",
        "    if D_S==\"dest\":  \n",
        "      for i in range(6): \n",
        "        #Iterer sur les 6 octets pour récupérer l'adresse \n",
        "        if i!= 5: \n",
        "          #Affichage des : entre les octets \n",
        "          mac+= str(trame[i]) \n",
        "          mac+=\":\"\n",
        "        else: \n",
        "          mac+= str(trame[i]) \n",
        "      self.dest=mac \n",
        "    else: \n",
        "      #il s'agit de l'adresse mac source \n",
        "      for i in range(6,12): \n",
        "        #Iterer sur les 6 octets pour récupérer l'adresse \n",
        "        if i!= 11: \n",
        "          #Affichage des : entre les octets \n",
        "          mac+= str(trame[i])\n",
        "          mac+=\":\"\n",
        "        else:\n",
        "          mac+= str(trame[i]) \n",
        "      self.src=mac \n",
        "\n",
        "  def trame_type(self, trame):\n",
        "    \"\"\"Fonction qui trouve le type et sa difinition à partir d'un dictionnaire de types possibles\"\"\"\n",
        "    Types={\"0800\":\"IPv4\",\"86dd\": \"Ipv6\", \"0805\":\"X.25\",\"0806\":\"ARP\",\"8035\":\"RARP\"}\n",
        "    t=\"\" \n",
        "    for i in range(12,14): #Parcourir les 2 octets de type dans l'entete ethernet \n",
        "      t+=trame[i] #nous avons récupéré le type \n",
        "    if t in Types: #Trouvon s sa difinition \n",
        "      #Si le type dans la trame figure parmi les types du dictionnaire initialisé \n",
        "      return (\"0x\"+t, Types[t]) \n",
        "    else:\n",
        "      return (\"0x\"+t, \"Unknown type\") \n",
        "    "
      ],
      "execution_count": 166,
      "outputs": []
    },
    {
      "cell_type": "code",
      "source": [
        "#Test \n",
        "\n",
        "l= [\"20\", \"52\", \"45\", \"43\", \"56\", \"00\", \"20\", \"53\", \"45\", \"4e\", \"44\", \"00\", \"08\", \"00\", \"45\", \"00\", \"00\", \"64\", \"12\", \"34\", \"00\", \"00\", \"ff\", \"11\", \"a3\", \"4f\", \"01\", \"01\", \"01\", \"01\", \"02\", \"02\", \"02\", \"02\", '00', '00', '00', '00', '00', '50', '6b', 'fc', 'ff', 'ff' ] \n",
        "\n",
        "E= Ethernet()\n",
        "\n",
        "E.adresse_mac(l, \"dest\")\n",
        "E.adresse_mac(l, \"src\")\n",
        "print(E.dest)\n",
        "print(E.src)\n",
        "\n",
        "E.trame_type(l)\n"
      ],
      "metadata": {
        "colab": {
          "base_uri": "https://localhost:8080/"
        },
        "id": "FnjBVMVCiEGl",
        "outputId": "6ca90227-1f3d-41e3-c197-03e8ee0dccac"
      },
      "execution_count": 132,
      "outputs": [
        {
          "output_type": "stream",
          "name": "stdout",
          "text": [
            "20:52:45:43:56:00\n",
            "20:53:45:4e:44:00\n"
          ]
        },
        {
          "output_type": "execute_result",
          "data": {
            "text/plain": [
              "('0x0800', 'IPv4')"
            ]
          },
          "metadata": {},
          "execution_count": 132
        }
      ]
    },
    {
      "cell_type": "code",
      "metadata": {
        "id": "BP2U0BpVkbby"
      },
      "source": [
        "#Couche IP \n",
        "\n",
        "class IP(): \n",
        "  def __init__(self):\n",
        "    self.version=\"\"\n",
        "    self.IHL=\"\"\n",
        "    self.tos=\"\" \n",
        "    self.taille=\"\" \n",
        "    self.id=\"\" \n",
        "    self.flag={\"R\":\"\", \"DF\":\"\", \"MF\":\"\"}\n",
        "    self.fo=\"\" \n",
        "    self.TTL=0\n",
        "    self.protocole=\"\"\n",
        "    self.header_checksum=\"\"\n",
        "    self.ipsrc=\"\"\n",
        "    self.ipdest=\"\"\n",
        "    self.option_length=0 \n",
        "    self.option=\"\" \n",
        "\n",
        "  def determine_version(self, trame): \n",
        "    self.version= str(trame[14])[0]\n",
        "    return self.version \n",
        "\n",
        "  def determine_ihl(self, trame):\n",
        "     #ihl se trouve aprés le type de l'entete ethernet \n",
        "     oct= str(trame[14])\n",
        "     self.IHL= int(oct[1], 16)\n",
        "     return self.IHL\n",
        "\n",
        "\n",
        "  def determine_tos(self, trame): \n",
        "    t= str(int(trame[15], 16)) \n",
        "    self.tos= t \n",
        "    return t \n",
        "\n",
        "\n",
        "  def total_length(self, trame):\n",
        "    ll=\"\"\n",
        "    for i in range(16, 18):\n",
        "      ll+=str(trame[i]) \n",
        "    self.taille= str(int(ll, 16)) \n",
        "    return self.taille  \n",
        "\n",
        "  def determine_id(self, trame): \n",
        "    i=\"\"\n",
        "    for j in range(18, 20): \n",
        "      i+= trame[j]\n",
        "    self.id= i\n",
        "    return \"0x\"+i \n",
        "\n",
        "  def determine_flags(self, trame): \n",
        "    f= str(trame[20])[0] \n",
        "    f= bin(int(f, 16))[2:].zfill(len(f)*4) #ignonrer \"0b\" puis en utilisant zfill recuperer la valeure sur 4 bits \n",
        "    self.flag[\"R\"]= f[0]\n",
        "    self.flag[\"DF\"]= f[1]\n",
        "    self.flag[\"MF\"]=  F[2]\n",
        "\n",
        "  def analyse_flag(self, dflags): \n",
        "    ch=\"premier bit réservé à 0 \\n\"\n",
        "    # Analyse DF \n",
        "    if dflagf[\"DF\"]==0: \n",
        "      ch+=\"DF = 0 donc fragmentation possible\\n\"\n",
        "    else: \n",
        "      #DF=1 \n",
        "      ch+=\"DF=1 fonc fragmentation non autorisé\\n\"\n",
        "    #ANALYSE MF\n",
        "    if dflag[\"MF\"]==0:\n",
        "      ch+=\"MF=0 donc il ne y a pas de fragment suivant le fragment courant\"\n",
        "    else: \n",
        "      #MF=1 \n",
        "      ch+=\"MF=1 donc il y a un fragment suivant le fragment courant\"\n",
        "\n",
        "\n",
        "  def determine_fragment_offset(self, trame): \n",
        "    f= \"\".join(trame[20:22]) #Recuperer le champ fragment offset de la trame \n",
        "    self.fo= bin(int(f, 16))[2:].zfill(len(f)*4)[3:] #Recuperer le 13 bits de poids faible appatenant au fragment offset car les 3 premiers appartiennent au flag \n",
        "    return self.fo\n",
        "  \n",
        "  def ttl(self, trame):\n",
        "    t=str(trame[22])                       \n",
        "    self.TTL= int(t,  16)  \n",
        "    return self.TTL \n",
        "\n",
        "  def determine_protocole(self, trame): \n",
        "    prot= {\"01\": \"ICMP\", \"06\": \"TCP\", \"11\": \"UDP\"}\n",
        "    #Recuperer le protocole \n",
        "    p= str(trame[23])\n",
        "    if p in prot: \n",
        "      self.protocole= prot[p]\n",
        "      return (p, prot[p])\n",
        "\n",
        "  def determine_checksum(self, trame):\n",
        "    t= \"\".join(trame[24:26])\n",
        "    self.header_checksum=t\n",
        "    return t \n",
        "    \n",
        "\n",
        "  def ip_src(self, trame): \n",
        "    s=\"\"\n",
        "    for i in range(26, 30):\n",
        "      if i!=29: \n",
        "        s+= str(trame[i])\n",
        "        s+=\".\"\n",
        "      else: \n",
        "         s+= str(trame[i])\n",
        "    self.ipsrc=s \n",
        "    return self.ipsrc\n",
        "  \n",
        "  def ip_dest(self, trame): \n",
        "    d=\"\"\n",
        "    for i in range(30, 34): \n",
        "      if i!=33: \n",
        "        s+= str(trame[i])\n",
        "        s+=\".\"\n",
        "      else:\n",
        "         s+= str(trame[i])\n",
        "    self.ipdest=s \n",
        "    return self.ipdest     \n",
        "\n",
        "\n",
        "  def determine_option(self, trame): \n",
        "    dtype={ \"0\": \"EOOL\", \"1\":\"NOP\", \"7\":\"RR\", \"68\":\"TS\", \"131\":\"LSR\", \"137\":\"SSR\"} #Options possibles en decimale \n",
        "    #Determiner le type: \n",
        "    t= int(trame[34], 16) #Convertir en decimale \n",
        "    if t in dtype: \n",
        "      self.option= dtype[t] \n",
        "\n",
        "  def determine_option_length(self, trame):\n",
        "    ihl= self.determine_ihl(trame) \n",
        "    self.option_length= ( ihl*4 ) - 20 #20 octets sans options donc taille option = taille entete - 20 \n",
        "    return self.option_length\n",
        "  "
      ],
      "execution_count": 3,
      "outputs": []
    },
    {
      "cell_type": "code",
      "source": [
        "i= IP()\n",
        "print( \"version \", i.determine_version(l))\n",
        "print(\"ihl \", i.determine_ihl(l))\n",
        "print(\"length\", i.total_length(l))\n",
        "print(\"id\", i.determine_id(l))"
      ],
      "metadata": {
        "colab": {
          "base_uri": "https://localhost:8080/"
        },
        "id": "1mPI2pxy6pkA",
        "outputId": "4e12d0fa-5292-4946-f7a6-266fd17e0808"
      },
      "execution_count": 4,
      "outputs": [
        {
          "output_type": "stream",
          "name": "stdout",
          "text": [
            "version  4\n",
            "ihl  5\n",
            "length 100\n",
            "id 0x1234\n"
          ]
        }
      ]
    },
    {
      "cell_type": "code",
      "metadata": {
        "id": "krrUj2wqyXBu"
      },
      "source": [
        "# Couche UDP\n",
        "\n",
        "class UDP: \n",
        "  def __init__(self):\n",
        "    self.ip=IP()\n",
        "    self.sPort=\"\" \n",
        "    self.dPort=\"\" \n",
        "    self.length=\"\" \n",
        "    self.checksum=\"\" \n",
        "    self.trame_udp=[]\n",
        "\n",
        "  def debut_udp(self, trame):\n",
        "     ip_debut= trame[14:] #14 premiers octets appartiennent à ethernet\n",
        "     l = self.ip.determine_option_length(trame) + 20\n",
        "     self.trame_udp= ip_debut[l:] #La trame udp commence directement apres la fin des options de la trame ip \n",
        "     return self.trame_udp \n",
        "\n",
        "  def determine_source_port(self, trame):\n",
        "    \"\"\" Fonction qui determine le port source d'une trame udp\"\"\"\n",
        "    p= \"\".join(trame[0:2])\n",
        "    self.sPort= p\n",
        "    return int(p, 16) \n",
        "  \n",
        "  def determine_dest_port(self, trame):\n",
        "    \"\"\"Fonction qui determine le port destination d'une trame udp\"\"\"\n",
        "    p= \"\".join(trame[2:4])\n",
        "    self.dport=p \n",
        "    return int(p, 16)  \n",
        "\n",
        "  def determine_length(self, trame): \n",
        "    l=\"\".join(trame[4:6])\n",
        "    self.length= int(l, 16)\n",
        "    return self.length\n",
        "\n",
        "  def determine_checksum(self, trame): \n",
        "    c= \"\".join(trame[6:8])\n",
        "    self.checksum= \"0x\"+c\n",
        "    return self.checksum\n"
      ],
      "execution_count": 5,
      "outputs": []
    },
    {
      "cell_type": "code",
      "source": [
        "u= UDP()\n",
        "u.debut_udp(l)\n",
        "udp= u.debut_udp(l)\n",
        "print(\"source\", u.determine_source_port(udp))\n",
        "print(\"des\", u.determine_dest_port(udp))\n",
        "print(\"length\", u.determine_length(udp))\n",
        "print(\"checksum\", u.determine_checksum(udp))"
      ],
      "metadata": {
        "colab": {
          "base_uri": "https://localhost:8080/"
        },
        "id": "oU7eNQwPij69",
        "outputId": "bdb93f49-3abf-4507-9d81-0404bb32f1d3"
      },
      "execution_count": 6,
      "outputs": [
        {
          "output_type": "stream",
          "name": "stdout",
          "text": [
            "source 0\n",
            "des 0\n",
            "length 80\n",
            "checksum 0x6bfc\n"
          ]
        }
      ]
    },
    {
      "cell_type": "code",
      "metadata": {
        "id": "0jbZnrAnwI6t"
      },
      "source": [
        "#DNS\n",
        "class DNS:\n",
        "\n",
        "  def __init__(self):\n",
        "    self.udp=UDP()\n",
        "    self.trame_DNS=[]\n",
        "    self.id=\"\"\n",
        "    self.flag=\"\" \n",
        "    self.flagsdic={\"Qr\":\"\", \"Opcode\":\"\", \"Aa\":\"\", \"Tc\": \"\", \"Rd\":\"\", \"Ra\":\"\", \"Z\":\"\", \"Rcode\":\"\"}\n",
        "    self.no_questions= \"\"\n",
        "    self.no_rep=\"\"\n",
        "    self.no_authority= \"\"\n",
        "    self.no_add= \"\"\n",
        "    self.questions=[] #Liste de toutes les questions \n",
        "    self.debut_answers=[] #Debut de la section des reponses dans la trame \n",
        "    self.answers=[]\n",
        "    self.debut_authority=[] #Debut de la section authority dans la trame \n",
        "    self.authority=[]\n",
        "    self.debut_additional=[] #Debut de la section additional dans la trame \n",
        "    self.additional=[]\n",
        "\n",
        "\n",
        "  def debut_DNS(self, trame):\n",
        "    trame_udp= self.UDP.debut_udp(trame) #La trame udp commence directement apres la fin des options de la trame ip \n",
        "    self.trame_DNS= trame_udp[8:]\n",
        "    return self.trame_DNS \n",
        "\n",
        "  def determine_id(self, trame):\n",
        "    self.id= \"\".join(trame[:2]) #deux premiers octets de la trame dns consacré au id\n",
        "    return self.id\n",
        "\n",
        "  def determine_flags(self, trame):\n",
        "    flags=\"\".join(trame[2:4]) \n",
        "    self.flag=flags\n",
        "    binflags=\"\" \n",
        "    for i in flags:\n",
        "      binflags+=  bin(int(i, 16))[2:].zfill(len(i)*4)\n",
        "    self.flagsdic[\"Qr\"] = binflags[0]\n",
        "    self.flagsdic[\"Opcode\"] = binflags[1:5]\n",
        "    self.flagsdic[\"Aa\"] = binflags[5]\n",
        "    self.flagsdic[\"Tc\"] = binflags[6]\n",
        "    self.flagsdic[\"Rd\"] = binflags[7]\n",
        "    self.flagsdic[\"Ra\"] = binflags[8]\n",
        "    self.flagsdic[\"Z\"] = binflags[9]\n",
        "    self.flagsdic[\"Rcode\"] = binflags[10:14]\n",
        "    return self.flagsdic \n",
        "\n",
        "  def determine_no_questions(self, trame):\n",
        "    s=  \"\".join(trame[4:6])\n",
        "    self.no_questions= int(s, 16)\n",
        "    return self.no_questions\n",
        "  \n",
        "  def determine_no_rep(self, trame):\n",
        "    s= \"\".join(trame[6:8])\n",
        "    self.no_rep = int(s, 16)\n",
        "    return self.no_rep\n",
        "\n",
        "  def determine_no_authority(self, trame):\n",
        "    s= \"\".join(trame[8:10])\n",
        "    self.no_authority= int(s, 16)\n",
        "    return self.no_authority \n",
        "\n",
        "  def determine_no_add(self, trame):\n",
        "    s= \"\".join(trame[10:12])\n",
        "    self.no_add= int(s, 16)\n",
        "    return self.no_add \n",
        "\n",
        "\n",
        "  def compression_DNS(self, octet):\n",
        "    \"\"\"Une fonction qui renvoie le nombre d'octets a sauter pour recomencer la lecture\"\"\"\n",
        "    binary=\"\" \n",
        "    for i in octet: \n",
        "      binary+=bin(int(i, 16))[2:].zfill(len(i)*4) #Recuperer la valeure binaire sur 16 bits\n",
        "    if binary[0]+binary[1] == '11': #On a bien un pointeur à cause des deu premiers bits 11 \n",
        "      return(True, int(binary[2:], 2)) #On retourne le nombre d'octets a sauter\n",
        "    else:\n",
        "      return (False, 0) \n",
        "\n",
        "  def start_lecture(self, trameDns, nb):\n",
        "    new = trameDns[nb:] #Retrouver le lieu où nous pouvons recommencer la lecture \n",
        "\n",
        "#Lire la trame octet par octet \n",
        "#et vérifier si on tombe sur un pointeur\n",
        "#Si oui, appel de la fonction compression et trouver le nombre de saut necessaire \n",
        "#La condition d'arret va etre la lecture d'un 00 \n",
        "\n",
        "  def hex_to_ascii(self, ch): \n",
        "    bytes_obj = bytes.fromhex(ch)\n",
        "    return bytes_obj.decode('ASCII')\n",
        "\n",
        "\n",
        "  def name_rec(self, tr, name, trame, c=[]):\n",
        "    if tr[0]==\"00\":\n",
        "      if c==[]: #on pas eu de pointeur \n",
        "        return name, tr\n",
        "      else: \n",
        "        return name, c \n",
        "    #Sinon soit on est sur un caractere  normale (pas pointeur) soit on est sur un c0 (pointeur)\n",
        "    (a, b)  = self.compression_DNS(tr[0]+tr[1])\n",
        "    if a==False: #Pas un pointeur\n",
        "      name+=tr[0] #On ajoute la valeure du code ascii\n",
        "      if c!=[]: #Il s'agit d'une relecture \n",
        "        return self.name_rec(tr[1:], name, trame, c)\n",
        "      else:\n",
        "        return self.name_rec(tr[1:], name, trame) \n",
        "    else: #a=True \n",
        "      #On a un pointeur donc a=True on recupere b = nb octets a sauter\n",
        "      print(\"tr\", tr[2:])  \n",
        "      return self.name_rec(trame[b:], name, trame, tr[2:])\n",
        "\n",
        "  def determine_questions(self, trame, nbquestion): \n",
        "    tr= copy.deepcopy(trame[12:])\n",
        "    b=0\n",
        "    for i in range(nbquestion):\n",
        "      n, liste= self.name_rec(tr[b:], \"\", trame)\n",
        "      dic= {\"Name\":n, \"Type\":\"\".join(liste[0:2]), \"Class\":\"\".join(liste[2:4])}\n",
        "      b=4\n",
        "      tr=liste\n",
        "      self.questions.append(dic)\n",
        "    #idiquier où la fonction determine_answer doit commencer sa lecture \n",
        "    #Fini la lecture des questions, donc l'octet prochain est le debut de la lecture des reponses \n",
        "    self.debut_answers= tr[4:]\n",
        "    return self.questions\n",
        "\n",
        "  def hex_to_dec(self, lis): \n",
        "    return \".\".join([str((int(i, 16))) for i in lis]) \n",
        "\n",
        "  def determine_answer(self, nbreponses, trame):\n",
        "    tr= copy.deepcopy(self.debut_answers)\n",
        "    b=0\n",
        "    for i in range(nbreponses):\n",
        "      n, liste= self.name_rec(tr[b:], \"\", trame)\n",
        "      print(\"received\", liste)\n",
        "      dic= {\"Name\":n, \"Type\":\"\".join(liste[0:2]), \"Class\":\"\".join(liste[2:4]), \"TTL\": \"\".join(liste[4:8]), \"DatalENGTH\": \"\".join(liste[8:10]), \"addr\":self.hex_to_dec(liste[10:])}\n",
        "      b=14\n",
        "      tr=liste\n",
        "      self.answers.append(dic)\n",
        "    #idiquier où la fonction determine_answer doit commencer sa lecture \n",
        "    #Fini la lecture des questions, donc l'octet prochain est le debut de la lecture des reponses \n",
        "    self.debut_authority= tr[14:]\n",
        "    return self.answers\n",
        "\n",
        "\n",
        "  def determine_authority(self, nbauthority, trame):\n",
        "    tr= copy.deepcopy(self.debut_authority)\n",
        "    b=0\n",
        "    for i in range(nbauthority):\n",
        "      n, liste= self.name_rec(tr[b:], \"\", trame)\n",
        "      dic= {\"Name\":n, \"Type\":\"\".join(liste[0:2]), \"Class\":\"\".join(liste[2:4]), \"TTL\": \"\".join(liste[4:8]), \"DatalENGTH\": \"\".join(liste[8:10]), \"addr\":self.hex_to_dec(liste[10:])}\n",
        "      b=14\n",
        "      tr=liste\n",
        "      self.authority.append(dic)\n",
        "    #idiquier où la fonction determine_answer doit commencer sa lecture \n",
        "    #Fini la lecture des questions, donc l'octet prochain est le debut de la lecture des reponses \n",
        "    self.debut_additional= tr[14:]\n",
        "    return self.authority \n",
        "\n",
        "  def determine_additional(self, nbadd, trame):\n",
        "    tr= copy.deepcopy(self.debut_additional)\n",
        "    b=0\n",
        "    for i in range(nbadd):\n",
        "      n, liste= self.name_rec(tr[b:], \"\", trame)\n",
        "      dic= {\"Name\":n, \"Type\":\"\".join(liste[0:2]), \"Class\":\"\".join(liste[2:4]), \"TTL\": \"\".join(liste[4:8]), \"DatalENGTH\": \"\".join(liste[8:10]), \"addr\":self.hex_to_dec(liste[10:])}\n",
        "      b=14\n",
        "      tr=liste\n",
        "      self.additional.append(dic)\n",
        "    #idiquier où la fonction determine_answer doit commencer sa lecture \n",
        "    #Fini la lecture des questions, donc l'octet prochain est le debut de la lecture des reponses \n",
        "    self.debut_additional= tr[14:]\n",
        "    return self.additional\n",
        "  "
      ],
      "execution_count": 115,
      "outputs": []
    },
    {
      "cell_type": "code",
      "source": [
        "# Test\n",
        "dns= DNS()\n",
        "# trame= [\"35\", \"56\", \"01\", \"00\", \"00\", \"01\", \"00\", \"00\", \"00\", \"00\", \"00\", \"00\", \"05\", \"66\", \"6f\", \"6e\", \"74\", \"73\", \"0a\", \"67\", \"6f\", \"6f\", \"67\", \"6c\", \"65\", \"61\", \"70\", \"69\", \"73\", \"03\", \"63\", \"6f\", \"6d\", \"00\", \"00\", \"01\", \"00\", \"01\"] \n",
        "\n",
        "\n",
        "trame= [\"56\", \"3c\", \"81\", \"80\", \"00\", \"01\", \"00\", \"01\", \"00\", \"00\", \"00\", \"00\", \"0e\", \"65\", \"6e\", \"63\", \"72\", \"79\", \"70\", \"74\", \"65\", \"64\", \"2d\", \"74\", \"62\", \"6e\", \"30\", \"07\", \"67\", \"73\", \"74\",\"61\", \"74\", \"69\", \"63\", \"03\", \"63\", \"6f\", \"6d\", \"00\", \"01\", \"00\", \"01\", \"c0\", \"0c\",\"00\", \"01\", \"00\", \"01\", \"00\", \"00\", \"00\",\"a3\", \"00\", \"04\", \"d8\", \"3a\", \"c9\", \"ee\" ]\n",
        "print(\"id\", dns.determine_id(trame)) \n",
        "print( \"flags\", dns.determine_flags(trame))\n",
        "print(\"valeure flag\", dns.flag)\n",
        "\n",
        "print(\"no questions\", dns.determine_no_questions(trame))\n",
        "print(\"no answers\", dns.determine_no_rep(trame)) \n",
        "print(\"no Authority\", dns.determine_no_authority(trame))\n",
        "print(\"no addiotional\", dns.determine_no_add(trame))\n",
        "print(\"questions\", dns.determine_questions(trame, 1))\n",
        "print(\"Answers\", dns.determine_answer( 1, trame))\n",
        "\n",
        "print(\"authority\", dns.determine_authority(0,trame))\n",
        "print(\"Additional\", dns.determine_additional(0, trame))\n",
        "\n",
        "# dns.compression_DNS(\"C00C\")\n",
        "print()\n",
        "\n"
      ],
      "metadata": {
        "colab": {
          "base_uri": "https://localhost:8080/"
        },
        "id": "Nto107L2ihoT",
        "outputId": "e4dbf577-6580-4fbe-8bf9-164661ffd5ee"
      },
      "execution_count": 117,
      "outputs": [
        {
          "output_type": "stream",
          "name": "stdout",
          "text": [
            "id 563c\n",
            "flags {'Qr': '1', 'Opcode': '0000', 'Aa': '0', 'Tc': '0', 'Rd': '1', 'Ra': '1', 'Z': '0', 'Rcode': '0000'}\n",
            "valeure flag 8180\n",
            "no questions 1\n",
            "no answers 1\n",
            "no Authority 0\n",
            "no addiotional 0\n",
            "questions [{'Name': '0e656e637279707465642d74626e30076773746174696303636f6d', 'Type': '0001', 'Class': '0001'}]\n",
            "tr ['00', '01', '00', '01', '00', '00', '00', 'a3', '00', '04', 'd8', '3a', 'c9', 'ee']\n",
            "received ['00', '01', '00', '01', '00', '00', '00', 'a3', '00', '04', 'd8', '3a', 'c9', 'ee']\n",
            "Answers [{'Name': '0e656e637279707465642d74626e30076773746174696303636f6d', 'Type': '0001', 'Class': '0001', 'TTL': '000000a3', 'DatalENGTH': '0004', 'addr': '216.58.201.238'}]\n",
            "authority []\n",
            "Additional []\n",
            "\n"
          ]
        }
      ]
    },
    {
      "cell_type": "code",
      "metadata": {
        "id": "70HRM8xa4QAR"
      },
      "source": [
        "#DHCP\n",
        " \n",
        "class DHCP:\n",
        "\n",
        "  def __init__(self):\n",
        "    self.op=\"\" \n",
        "    self.htypeval=\"\" \n",
        "    self.htype=\"\" #A determiner parmi plueisurs \n",
        "    self.hlen=0 \n",
        "    self.hops=\"\" \n",
        "    self.xid=\"\" \n",
        "    self.secs=0 \n",
        "    self.flags= {\"R\":\"\", \"B\":\"\"} \n",
        "    self.ciaddr=\"\" \n",
        "    self.yiaddr=\"\" \n",
        "    self.siaddr=\"\" \n",
        "    self.giaddr=\"\" \n",
        "    self.chaddr=\"\" \n",
        "    self.sname=\"\" \n",
        "    self.file=\"\" \n",
        "    self.options=\"\" \n",
        "\n",
        "\n",
        "  def determine_op(self, trame): \n",
        "    \"\"\"l'argument trame est une trame dhcp\"\"\"\n",
        "    self.op= trame[0]\n",
        "    return self.op \n",
        "\n",
        "  def determine_htypeVal(self, trame):\n",
        "    v= \"\".join(trame[1:3]) \n",
        "    self.htypeval= int(v, 16)\n",
        "    return self.htypeval\n",
        "\n",
        "\n",
        "  def determine_htype(self, htypeval):\n",
        "    if htypeval==1: \n",
        "      self.htype=\"Ethernet\"\n",
        "    elif htypeval==6:\n",
        "      self.htype=\"IEE 802 Networks\"\n",
        "    elif htypeval==7:\n",
        "      self.htype=\"ARCNET\"\n",
        "    elif htypeval==11:\n",
        "      self.htype=\"LocaITalk\"\n",
        "    elif htypeval==12:\n",
        "      self.htype=\"LocaINet (IBM PCNet or SYTEK LocaINET)\"\n",
        "    elif htypeval==14:\n",
        "      self.htype=\"SMDS\"\n",
        "    elif htypeval==15:\n",
        "      self.htype=\"Frame Relay\"\n",
        "    elif htypeval==16:\n",
        "      self.htype=\"Asynchronous Transfer mode (ATM)\"\n",
        "    elif htypeval==17:\n",
        "      self.htype=\"HDLC\"\n",
        "    elif htypeval==18:\n",
        "      self.htype=\"Fibre Channel\"\n",
        "    elif htypeval==19:\n",
        "      self.htype=\"Asynchronous Transfer Mode (ATM)\"\n",
        "    elif htypeval==20:\n",
        "      self.htype=\"Serial Line\"\n",
        "    \n",
        "    return self.htype\n",
        "\n",
        "\n",
        "  def determine_hlen(self, trame):\n",
        "    val= \"\".join(trame[3:6])\n",
        "    self.hlen= int(val, 16) #Dec \n",
        "    return self.hlen \n",
        "\n",
        "\n",
        "  def determine_hops(self, trame):\n",
        "    self.hops= \"\".join(trame[6: 10])\n",
        "    return self.hops\n",
        "\n",
        "  def determine_xid(self, trame): \n",
        "    val=\"\".join(trame[10:20])\n",
        "    self.xid=int(val, 16)\n",
        "    return self.xid\n",
        "\n",
        "  def determine_secs(self, trame): \n",
        "    val=\"\".join(trame[20:23])\n",
        "    self.secs=nt(val, 16)\n",
        "    return self.secs\n",
        "\n",
        "\n",
        "  def determine_flags(self, trame): \n",
        "    v= bin(int(\"\".join(trame[23], 16))) \n",
        "    self.flags[\"B\"] = v[2]\n",
        "    self.flags[\"R\"] = bin(int(\"\".join(trame[24:30]), 16))[2:]\n",
        "    self.flags[\"R\"] = v[3:] + self.flags[\"R\"]\n",
        "    \n",
        "\n",
        "  def determine_ciaddr(self, trame):\n",
        "    self.ciaddr=\".\".join(trame[30:40])\n",
        "    return self.ciaddr\n",
        "\n",
        "  \n",
        "  def determine_yiaddr(self, trame):\n",
        "    self.yiaddr=\".\".join(trame[40:50])\n",
        "    return self.yiaddr\n",
        "\n",
        "  def determine_siaddr(self, trame):\n",
        "    self.siaddr=\".\".join(trame[50:60])\n",
        "    return self.siaddr\n",
        "\n",
        "  def determine_giaddr(self, trame):\n",
        "    self.giaddr=\".\".join(trame[60:70])\n",
        "    return self.giaddr\n",
        "\n",
        "  def determine_chaddr(self, trame):\n",
        "    self.chaddr=\"\".join(trame[70:80])\n",
        "    return self.chaddr\n",
        "\n",
        "  def determine_sname(self, trame):\n",
        "    self.sname=\"<\"\n",
        "    self.sname+=\"\".join(trame[80:90])\n",
        "    self.sname+=\">\"\n",
        "    return self.sname\n",
        "\n",
        "  \n",
        "  def determine_file(self, trame):\n",
        "    self.file=\"<\"\n",
        "    self.file+=\"\".join(trame[90:100])\n",
        "    self.file+=\">\"\n",
        "    return self.file\n",
        "\n",
        "  def determine_optionval(self, trame):\n",
        "    val= trame[100] #100eme octet correspond au code de l'option \n",
        "    return val \n",
        "\n",
        "  def determine_option(self, trame): \n",
        "    v= self.determine_optionval(trame) \n",
        "    v= int(v, 16) #Recuperer la valeure de l'option en decimale \n",
        "    l_op= [1, 3, 15, 6, 12, 28, 43, 50, 51, 53, 54, 55, 57, 58, 59, 60, 61, 114, 116, 2, 224]\n",
        "    if v in l_op: \n",
        "      if v==1: \n",
        "        self.option= \"Subnet Mask\"\n",
        "      elif v==3: \n",
        "        self.option= \"Router\"\n",
        "      elif v==15: \n",
        "        self.option= \"Domain Name\"\n",
        "      elif v==6:\n",
        "        self.option=\"Serveur de domaine\"\n",
        "      elif v==12:\n",
        "        self.option=\"Nom d'hôte\"\n",
        "      elif v==28:\n",
        "        self.option=\"Adresse de diffusion\"\n",
        "      elif v==43:\n",
        "        self.option=\"Spécifique au fournisseur\"\n",
        "      elif v==50:\n",
        "        self.option=\"Demande d'adresse\"\n",
        "      elif v==51:\n",
        "        self.option=\"Adresse Heure\"\n",
        "      elif v==53:\n",
        "        self.option=\"Type de message DHCP\"\n",
        "      elif v==54:\n",
        "        self.option=\"Identifiant du serveur DHCP\"\n",
        "      elif v==55:\n",
        "        self.option=\"Liste des paramètres\"\n",
        "      elif v==57:\n",
        "        self.option=\"Taille maximale des messages DHCP\"\n",
        "      elif v==58:\n",
        "        self.option=\"Temps de renouvellement\"\n",
        "      elif v==59:\n",
        "        self.option=\"Temps de reliure\"\n",
        "      elif v==60:\n",
        "        self.option=\"Identifiant de classe\"\n",
        "      elif v==61:\n",
        "        self.option=\"Identité du client\"\n",
        "      elif v==114:\n",
        "        self.option=\"Portail captif DHCP\"\n",
        "      elif v==116:\n",
        "        self.option=\"Configuration automatique\"\n",
        "      elif v==2:\n",
        "        self.option=\"Décalage horaire\"\n",
        "      elif v==224:\n",
        "        self.option=\"Réservé (usage privé)\"\n",
        "    else: \n",
        "      self.option= \"Option non traité par le programme\"\n",
        "\n",
        "    return self.option \n",
        "\n"
      ],
      "execution_count": null,
      "outputs": []
    },
    {
      "cell_type": "code",
      "source": [
        "# import Ethernet as eth\n",
        "# import IP.py \n",
        "# import UDP.py \n",
        "# import DNS.py\n",
        "# import DHCP.py \n",
        "# import Verif as ver \n",
        "import argparse \n",
        "\n",
        "#Recuperer le fichier source et destination \n",
        "\n",
        "#Instentiation de la classe ArgumentParser \n",
        "Args = argparse.ArgumentParser()\n",
        "\n",
        "#Ajouter les arguments nécessaires\n",
        "Args.add_argument(\"fic_src\",type=str,help=\"Veuillez saisir le chemin vers le fichier contenant la trame\\n\")\n",
        "Args.add_argument(\"fic_dest\",type=str,help=\"Veuillez saisir le nom du fichier qui contiendra les analyses de la trame\\n\")\n",
        " \n",
        "if ver.verif(fic_src)!=None: #Nous avons reussit a ouvrir le fichier! \n",
        "  #On ouvre le fichier destination \n",
        "  f= (fic_des, \"a\") #Ouvrir le fichier en mode append \n",
        "  #On commence les analyses par Ethernet \n",
        "  f.write(\"__________________________________________Ethernet_________________________________________\")\n",
        "\n",
        "\n",
        "\n",
        "\n",
        "\n",
        "\n",
        "\n",
        "# --------------------------Ethernet-----------------------\n",
        "# source 'des\n",
        "# type\n",
        "# ------------------------IP-------------------------------\n",
        "# ihl\n",
        "# version\n",
        "# option\n",
        "# flag/\n",
        "# -----------UDP--------------------\n",
        "\n",
        "#Recuperer "
      ],
      "metadata": {
        "colab": {
          "base_uri": "https://localhost:8080/",
          "height": 235
        },
        "id": "K0-UTp0kcgor",
        "outputId": "687150cf-0358-4022-8692-7992738daa00"
      },
      "execution_count": 267,
      "outputs": [
        {
          "output_type": "error",
          "ename": "NameError",
          "evalue": "ignored",
          "traceback": [
            "\u001b[0;31m---------------------------------------------------------------------------\u001b[0m",
            "\u001b[0;31mNameError\u001b[0m                                 Traceback (most recent call last)",
            "\u001b[0;32m<ipython-input-267-b8abd7a9367b>\u001b[0m in \u001b[0;36m<module>\u001b[0;34m()\u001b[0m\n\u001b[1;32m     16\u001b[0m \u001b[0mArgs\u001b[0m\u001b[0;34m.\u001b[0m\u001b[0madd_argument\u001b[0m\u001b[0;34m(\u001b[0m\u001b[0;34m\"fic_dest\"\u001b[0m\u001b[0;34m,\u001b[0m\u001b[0mtype\u001b[0m\u001b[0;34m=\u001b[0m\u001b[0mstr\u001b[0m\u001b[0;34m,\u001b[0m\u001b[0mhelp\u001b[0m\u001b[0;34m=\u001b[0m\u001b[0;34m\"Veuillez saisir le nom du fichier qui contiendra les analyses de la trame\\n\"\u001b[0m\u001b[0;34m)\u001b[0m\u001b[0;34m\u001b[0m\u001b[0;34m\u001b[0m\u001b[0m\n\u001b[1;32m     17\u001b[0m \u001b[0;34m\u001b[0m\u001b[0m\n\u001b[0;32m---> 18\u001b[0;31m \u001b[0;32mif\u001b[0m \u001b[0mver\u001b[0m\u001b[0;34m.\u001b[0m\u001b[0mverif\u001b[0m\u001b[0;34m(\u001b[0m\u001b[0mfic_src\u001b[0m\u001b[0;34m)\u001b[0m\u001b[0;34m!=\u001b[0m\u001b[0;32mNone\u001b[0m\u001b[0;34m:\u001b[0m \u001b[0;31m#Nous avons reussit a ouvrir le fichier!\u001b[0m\u001b[0;34m\u001b[0m\u001b[0;34m\u001b[0m\u001b[0m\n\u001b[0m\u001b[1;32m     19\u001b[0m   \u001b[0;31m#On ouvre le fichier destination\u001b[0m\u001b[0;34m\u001b[0m\u001b[0;34m\u001b[0m\u001b[0;34m\u001b[0m\u001b[0m\n\u001b[1;32m     20\u001b[0m   \u001b[0mf\u001b[0m\u001b[0;34m=\u001b[0m \u001b[0;34m(\u001b[0m\u001b[0mfic_des\u001b[0m\u001b[0;34m,\u001b[0m \u001b[0;34m\"a\"\u001b[0m\u001b[0;34m)\u001b[0m \u001b[0;31m#Ouvrir le fichier en mode append\u001b[0m\u001b[0;34m\u001b[0m\u001b[0;34m\u001b[0m\u001b[0m\n",
            "\u001b[0;31mNameError\u001b[0m: name 'ver' is not defined"
          ]
        }
      ]
    },
    {
      "cell_type": "code",
      "source": [
        "L=[\"01\", \"01\", \"06\", \"00\", \"50\", \"79\", \"09\",\"ab\",  ]"
      ],
      "metadata": {
        "id": "YMoCgz7qAgFD"
      },
      "execution_count": null,
      "outputs": []
    },
    {
      "cell_type": "code",
      "metadata": {
        "colab": {
          "base_uri": "https://localhost:8080/",
          "height": 35
        },
        "id": "_3PyqVkEHxTN",
        "outputId": "28a21005-4272-491c-8ba5-54212a211343"
      },
      "source": [
        "l=[\"1\", \"2\", \"aa\", \"bb\"]\n",
        "\".\".join(l[1:4])"
      ],
      "execution_count": null,
      "outputs": [
        {
          "output_type": "execute_result",
          "data": {
            "application/vnd.google.colaboratory.intrinsic+json": {
              "type": "string"
            },
            "text/plain": [
              "'2.aa.bb'"
            ]
          },
          "metadata": {},
          "execution_count": 3
        }
      ]
    },
    {
      "cell_type": "code",
      "metadata": {
        "colab": {
          "base_uri": "https://localhost:8080/"
        },
        "id": "Q8kpZstO_b2X",
        "outputId": "7b7b580e-5133-418d-ca99-b97fe0903c88"
      },
      "source": [
        "str(str(int(\"07\", 16)))\n",
        "print(\"this IS\\n IT\")"
      ],
      "execution_count": null,
      "outputs": [
        {
          "output_type": "stream",
          "name": "stdout",
          "text": [
            "this IS\n",
            " IT\n"
          ]
        }
      ]
    },
    {
      "cell_type": "code",
      "metadata": {
        "id": "lkyzC6TOnFJg",
        "colab": {
          "base_uri": "https://localhost:8080/",
          "height": 35
        },
        "outputId": "24776ef3-3242-43c5-c3f7-9a19b69a2a71"
      },
      "source": [
        "chr(int(\"97\"))"
      ],
      "execution_count": null,
      "outputs": [
        {
          "output_type": "execute_result",
          "data": {
            "application/vnd.google.colaboratory.intrinsic+json": {
              "type": "string"
            },
            "text/plain": [
              "'a'"
            ]
          },
          "metadata": {},
          "execution_count": 7
        }
      ]
    },
    {
      "cell_type": "code",
      "source": [
        "l=[1, 2, 3, 4, 5]\n",
        "\n",
        "\n",
        "def f(l):\n",
        "  for i in range(2):\n",
        "    l=l[1:]\n",
        "\n",
        "\n",
        "f(l)\n",
        "print(l)"
      ],
      "metadata": {
        "id": "k-Ps45Kyxavy",
        "colab": {
          "base_uri": "https://localhost:8080/"
        },
        "outputId": "0e11d21b-edf9-4bc9-8b53-877159fd3d9c"
      },
      "execution_count": 62,
      "outputs": [
        {
          "output_type": "stream",
          "name": "stdout",
          "text": [
            "[1, 2, 3, 4, 5]\n"
          ]
        }
      ]
    },
    {
      "cell_type": "code",
      "source": [
        "chr(int('0e', 16))"
      ],
      "metadata": {
        "colab": {
          "base_uri": "https://localhost:8080/",
          "height": 35
        },
        "id": "ux9am-OxD1zr",
        "outputId": "2889b618-8a34-4362-96f9-b95379b7a80f"
      },
      "execution_count": 32,
      "outputs": [
        {
          "output_type": "execute_result",
          "data": {
            "application/vnd.google.colaboratory.intrinsic+json": {
              "type": "string"
            },
            "text/plain": [
              "'\\x0e'"
            ]
          },
          "metadata": {},
          "execution_count": 32
        }
      ]
    },
    {
      "cell_type": "code",
      "source": [
        "n= int('0e', 16)\n",
        "print(n)\n",
        "binascii.unhexlify('%x' % 14) "
      ],
      "metadata": {
        "colab": {
          "base_uri": "https://localhost:8080/",
          "height": 218
        },
        "id": "RnO80MJDYl93",
        "outputId": "324c5bae-db78-473e-ca49-9e80d8f27f97"
      },
      "execution_count": 43,
      "outputs": [
        {
          "output_type": "stream",
          "name": "stdout",
          "text": [
            "14\n"
          ]
        },
        {
          "output_type": "error",
          "ename": "Error",
          "evalue": "ignored",
          "traceback": [
            "\u001b[0;31m---------------------------------------------------------------------------\u001b[0m",
            "\u001b[0;31mError\u001b[0m                                     Traceback (most recent call last)",
            "\u001b[0;32m<ipython-input-43-f1a7d1717321>\u001b[0m in \u001b[0;36m<module>\u001b[0;34m()\u001b[0m\n\u001b[1;32m      1\u001b[0m \u001b[0mn\u001b[0m\u001b[0;34m=\u001b[0m \u001b[0mint\u001b[0m\u001b[0;34m(\u001b[0m\u001b[0;34m'0e'\u001b[0m\u001b[0;34m,\u001b[0m \u001b[0;36m16\u001b[0m\u001b[0;34m)\u001b[0m\u001b[0;34m\u001b[0m\u001b[0;34m\u001b[0m\u001b[0m\n\u001b[1;32m      2\u001b[0m \u001b[0mprint\u001b[0m\u001b[0;34m(\u001b[0m\u001b[0mn\u001b[0m\u001b[0;34m)\u001b[0m\u001b[0;34m\u001b[0m\u001b[0;34m\u001b[0m\u001b[0m\n\u001b[0;32m----> 3\u001b[0;31m \u001b[0mbinascii\u001b[0m\u001b[0;34m.\u001b[0m\u001b[0munhexlify\u001b[0m\u001b[0;34m(\u001b[0m\u001b[0;34m'%x'\u001b[0m \u001b[0;34m%\u001b[0m \u001b[0;36m14\u001b[0m\u001b[0;34m)\u001b[0m\u001b[0;34m\u001b[0m\u001b[0;34m\u001b[0m\u001b[0m\n\u001b[0m",
            "\u001b[0;31mError\u001b[0m: Odd-length string"
          ]
        }
      ]
    },
    {
      "cell_type": "code",
      "source": [
        "q=0\n",
        "for i in range(2):\n",
        "  q+=1\n",
        "\n",
        "print(q)"
      ],
      "metadata": {
        "colab": {
          "base_uri": "https://localhost:8080/"
        },
        "id": "ZCnW9wsgaVrV",
        "outputId": "4863edcd-6a47-4fbb-8e35-abe276b91674"
      },
      "execution_count": 69,
      "outputs": [
        {
          "output_type": "stream",
          "name": "stdout",
          "text": [
            "2\n"
          ]
        }
      ]
    },
    {
      "cell_type": "code",
      "source": [
        "l=[\"d8\", \"3a\", \"c9\", \"ee\"]\n",
        "\".\".join([str((int(i, 16))) for i in l]) "
      ],
      "metadata": {
        "colab": {
          "base_uri": "https://localhost:8080/",
          "height": 35
        },
        "id": "DH0EYeRHip1y",
        "outputId": "a73f3db5-b06a-4203-ea2a-c4f3813e0337"
      },
      "execution_count": 107,
      "outputs": [
        {
          "output_type": "execute_result",
          "data": {
            "application/vnd.google.colaboratory.intrinsic+json": {
              "type": "string"
            },
            "text/plain": [
              "'216.58.201.238'"
            ]
          },
          "metadata": {},
          "execution_count": 107
        }
      ]
    },
    {
      "cell_type": "code",
      "source": [
        "hex_str = '0e656e637279707465642d74626e30076773746174696303636f6d'\n",
        "\n",
        "bytes_obj = bytes.fromhex(hex_str)\n",
        "\n",
        "ascii_str = bytes_obj.decode('utf-8')\n",
        "\n",
        "print(ascii_str)"
      ],
      "metadata": {
        "colab": {
          "base_uri": "https://localhost:8080/"
        },
        "id": "-L9P-RqZr656",
        "outputId": "c76930c5-7db8-4a98-d777-ee50aec6a490"
      },
      "execution_count": 120,
      "outputs": [
        {
          "output_type": "stream",
          "name": "stdout",
          "text": [
            "\u000eencrypted-tbn0\u0007gstatic\u0003com\n"
          ]
        }
      ]
    },
    {
      "cell_type": "code",
      "source": [
        "l=[1, 2, 3]\n",
        "l1=[2, 3, 1]\n",
        "l==l1"
      ],
      "metadata": {
        "colab": {
          "base_uri": "https://localhost:8080/"
        },
        "id": "cyaQycUBwVD7",
        "outputId": "98e69067-9da0-4f4f-fa4a-3934fe83c6c7"
      },
      "execution_count": 180,
      "outputs": [
        {
          "output_type": "execute_result",
          "data": {
            "text/plain": [
              "False"
            ]
          },
          "metadata": {},
          "execution_count": 180
        }
      ]
    },
    {
      "cell_type": "code",
      "source": [
        ""
      ],
      "metadata": {
        "id": "rX2HNJ7TJ8Fp"
      },
      "execution_count": null,
      "outputs": []
    }
  ]
}